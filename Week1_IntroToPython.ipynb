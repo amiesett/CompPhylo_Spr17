{
 "cells": [
  {
   "cell_type": "markdown",
   "metadata": {},
   "source": [
    "### Computational Phylogenetics <br/> 1.17.17 <br/> Introduction to Python <br/> Jeremy M. Brown"
   ]
  },
  {
   "cell_type": "markdown",
   "metadata": {
    "collapsed": false,
    "slideshow": {
     "slide_type": "-"
    }
   },
   "source": [
    "**Try working through the following line-by-line**\n",
    "\n",
    "Assigning an int(eger) value to a variable"
   ]
  },
  {
   "cell_type": "code",
   "execution_count": null,
   "metadata": {
    "collapsed": false
   },
   "outputs": [],
   "source": [
    "myInt = 3\n",
    "myInt"
   ]
  },
  {
   "cell_type": "markdown",
   "metadata": {},
   "source": [
    "Printing to the standard output (screen)"
   ]
  },
  {
   "cell_type": "code",
   "execution_count": null,
   "metadata": {
    "collapsed": false
   },
   "outputs": [],
   "source": [
    "print(myInt)"
   ]
  },
  {
   "cell_type": "markdown",
   "metadata": {},
   "source": [
    "*How did the outcome of the previous two commands differ? Why?*"
   ]
  },
  {
   "cell_type": "markdown",
   "metadata": {},
   "source": [
    "Assigning a float value to a variable"
   ]
  },
  {
   "cell_type": "code",
   "execution_count": null,
   "metadata": {
    "collapsed": false
   },
   "outputs": [],
   "source": [
    "myFloat = 3.0\n",
    "print(myFloat)"
   ]
  },
  {
   "cell_type": "markdown",
   "metadata": {},
   "source": [
    "Performing mathematical operations with ints. Note the return types! If your last value is 0 or 1, you're not using Python 3."
   ]
  },
  {
   "cell_type": "code",
   "execution_count": null,
   "metadata": {
    "collapsed": false
   },
   "outputs": [],
   "source": [
    "print(2+3)\n",
    "print(2*3)\n",
    "print(2/3)"
   ]
  },
  {
   "cell_type": "markdown",
   "metadata": {},
   "source": [
    "Now try with floats. How do the return types differ?"
   ]
  },
  {
   "cell_type": "code",
   "execution_count": null,
   "metadata": {
    "collapsed": false
   },
   "outputs": [],
   "source": [
    "print(2.0+3.0)\n",
    "print(2.0*3.0)\n",
    "print(2.0/3.0)"
   ]
  },
  {
   "cell_type": "markdown",
   "metadata": {},
   "source": [
    "Assigning a boolean value to a variable"
   ]
  },
  {
   "cell_type": "code",
   "execution_count": null,
   "metadata": {
    "collapsed": false
   },
   "outputs": [],
   "source": [
    "myBool = True\n",
    "print(myBool)"
   ]
  },
  {
   "cell_type": "markdown",
   "metadata": {},
   "source": [
    "Assigning a string value to a variable"
   ]
  },
  {
   "cell_type": "code",
   "execution_count": null,
   "metadata": {
    "collapsed": false
   },
   "outputs": [],
   "source": [
    "myString = \"thisIsAString\"\n",
    "print(myString)"
   ]
  },
  {
   "cell_type": "markdown",
   "metadata": {},
   "source": [
    "Special characters are 'escaped' with a \\ that change letter's meaning"
   ]
  },
  {
   "cell_type": "code",
   "execution_count": null,
   "metadata": {
    "collapsed": false
   },
   "outputs": [],
   "source": [
    "myString2 = \"thisIs\\nAMultiLineString\"\n",
    "print(myString2)"
   ]
  },
  {
   "cell_type": "markdown",
   "metadata": {},
   "source": [
    "We can concatenate strings with a '+'"
   ]
  },
  {
   "cell_type": "code",
   "execution_count": null,
   "metadata": {
    "collapsed": false
   },
   "outputs": [],
   "source": [
    "print(myString + \"_I_love_Python!\")"
   ]
  },
  {
   "cell_type": "markdown",
   "metadata": {},
   "source": [
    "The same operator can do different things, depending on the data type."
   ]
  },
  {
   "cell_type": "code",
   "execution_count": null,
   "metadata": {
    "collapsed": false
   },
   "outputs": [],
   "source": [
    "print(3+3)"
   ]
  },
  {
   "cell_type": "markdown",
   "metadata": {},
   "source": [
    "However, operators often don't know how to mix data types"
   ]
  },
  {
   "cell_type": "code",
   "execution_count": null,
   "metadata": {
    "collapsed": false
   },
   "outputs": [],
   "source": [
    "print(myString+3)"
   ]
  },
  {
   "cell_type": "markdown",
   "metadata": {},
   "source": [
    "We can fix this by making them the same data type on the fly - typecasting"
   ]
  },
  {
   "cell_type": "code",
   "execution_count": null,
   "metadata": {
    "collapsed": false
   },
   "outputs": [],
   "source": [
    "print(myString+str(3))"
   ]
  },
  {
   "cell_type": "markdown",
   "metadata": {},
   "source": [
    "Some functions take a string and give you something back, like its length"
   ]
  },
  {
   "cell_type": "code",
   "execution_count": null,
   "metadata": {
    "collapsed": false
   },
   "outputs": [],
   "source": [
    "print(len(myString))"
   ]
  },
  {
   "cell_type": "markdown",
   "metadata": {},
   "source": [
    "Methods are like functions but belong to individual instances of objects"
   ]
  },
  {
   "cell_type": "code",
   "execution_count": null,
   "metadata": {
    "collapsed": false
   },
   "outputs": [],
   "source": [
    "print(myString.lower())"
   ]
  },
  {
   "cell_type": "markdown",
   "metadata": {},
   "source": [
    "If you type the line above yourself and you're working in the standard Python console in Spyder, pause after typing \"myString.\" and it should give you a list of all available methods. This won't happen in the IPython console or in Jupyter. However, try dir() to see a full list of methods available for any object."
   ]
  },
  {
   "cell_type": "code",
   "execution_count": null,
   "metadata": {
    "collapsed": false
   },
   "outputs": [],
   "source": [
    "dir(myString)"
   ]
  },
  {
   "cell_type": "markdown",
   "metadata": {},
   "source": [
    "Another useful method allows you to find substrings."
   ]
  },
  {
   "cell_type": "code",
   "execution_count": null,
   "metadata": {
    "collapsed": false
   },
   "outputs": [],
   "source": [
    "print(myString.find(\"string\"))\n",
    "print(myString.find(\"String\"))"
   ]
  },
  {
   "cell_type": "markdown",
   "metadata": {},
   "source": [
    "Look carefully at the output from these statements."
   ]
  },
  {
   "cell_type": "markdown",
   "metadata": {},
   "source": [
    "Since these methods and functions return new strings after they run, they can be strung together in one line."
   ]
  },
  {
   "cell_type": "code",
   "execution_count": null,
   "metadata": {
    "collapsed": false
   },
   "outputs": [],
   "source": [
    "print(myString.startswith('T'))\n",
    "print(myString.upper().startswith('T'))"
   ]
  },
  {
   "cell_type": "markdown",
   "metadata": {},
   "source": [
    "Strings are actually a series of individual variables treated as one. The individual characters can also be accessed directly and extracted."
   ]
  },
  {
   "cell_type": "code",
   "execution_count": null,
   "metadata": {
    "collapsed": false
   },
   "outputs": [],
   "source": [
    "print(myString[1:4])"
   ]
  },
  {
   "cell_type": "markdown",
   "metadata": {},
   "source": [
    "Wait, what just happened there? How many characters were printed and what was the first one?"
   ]
  },
  {
   "cell_type": "markdown",
   "metadata": {},
   "source": [
    "---\n",
    "With the skills you have now learned in the first part of this script, try this exercise:\n",
    "\n",
    "*** Sequence Manipulation Exercise ***\n",
    "\n",
    "- Create a new Python script (text file)\n",
    "- At the beginning of the script, define a DNA sequence (taken from https://github.com/jembrown/CompPhylo_Spr17/blob/master/CodingSeq.txt)\n",
    "- Print the length of the sequence to the screen along with text explaining the value\n",
    "- Create and store the RNA equivalent of the sequence, then print to screen.\n",
    "- Create and store the reverse complement of your sequence, then print to\n",
    "screen.\n",
    "- Extract the bases corresponding to the 13rd and 14th codons from the\n",
    "sequence, then print them to the screen.\n",
    "- Create a function to translate the nucleotide sequence to amino acids\n",
    "using the vertebrate mitochondrial genetic code (available from\n",
    "https://github.com/jembrown/CompPhylo_Spr17/blob/master/VertMitTransTable.txt).\n",
    "- Translate the sequence and print it to the screen.\n",
    "- Be sure you've added comments to explain what this script is and what the\n",
    "different bits of code mean.\n",
    "- Save this script as \"seqManip.py\" and commit it to your class GitHub repo.\n",
    "- **DUE BY MON., JAN. 23RD**\n",
    "---"
   ]
  },
  {
   "cell_type": "markdown",
   "metadata": {},
   "source": [
    "Lists are compound variables. They simultaneously store the values of several variables of a particular type. Here's an example of a list of strings:"
   ]
  },
  {
   "cell_type": "code",
   "execution_count": null,
   "metadata": {
    "collapsed": true
   },
   "outputs": [],
   "source": [
    "amniotes = [\"Homo_sapiens\", \"Gallus_gallus\", \"Chrysemys_picta\", \"bison_Bison\"]"
   ]
  },
  {
   "cell_type": "markdown",
   "metadata": {},
   "source": [
    "Here's a list of integers:"
   ]
  },
  {
   "cell_type": "code",
   "execution_count": null,
   "metadata": {
    "collapsed": true
   },
   "outputs": [],
   "source": [
    "hapChromNum = [23, 39, 25, 30]"
   ]
  },
  {
   "cell_type": "markdown",
   "metadata": {},
   "source": [
    "Lists are nice because they are flexible in size, store many values and can be queried and sliced. For starters, if we want the first amniote species in our list, we would type:"
   ]
  },
  {
   "cell_type": "code",
   "execution_count": null,
   "metadata": {
    "collapsed": false
   },
   "outputs": [],
   "source": [
    "print(amniotes[0])"
   ]
  },
  {
   "cell_type": "markdown",
   "metadata": {},
   "source": [
    "Remember that indices start at 0 in Python!"
   ]
  },
  {
   "cell_type": "markdown",
   "metadata": {},
   "source": [
    "Let's say we have a long list and can't remember where the painted turtle  (Chrysemys picta) is in the list. However, we have stored the haploid chromosome numbers in a separate list that has the same order as the taxon names. First, we can lookup where turtles are:"
   ]
  },
  {
   "cell_type": "code",
   "execution_count": null,
   "metadata": {
    "collapsed": true
   },
   "outputs": [],
   "source": [
    "turtIndex = amniotes.index(\"Chrysemys_picta\")"
   ]
  },
  {
   "cell_type": "markdown",
   "metadata": {},
   "source": [
    "Then, we can print out the corresponding haploid chromosome number:"
   ]
  },
  {
   "cell_type": "code",
   "execution_count": null,
   "metadata": {
    "collapsed": false
   },
   "outputs": [],
   "source": [
    "print(hapChromNum[turtIndex])"
   ]
  },
  {
   "cell_type": "markdown",
   "metadata": {},
   "source": [
    "We could also skip creating another variable and combine this into one line."
   ]
  },
  {
   "cell_type": "code",
   "execution_count": null,
   "metadata": {
    "collapsed": false
   },
   "outputs": [],
   "source": [
    "print(hapChromNum[amniotes.index(\"Chrysemys_picta\")])"
   ]
  },
  {
   "cell_type": "markdown",
   "metadata": {},
   "source": [
    "We can also extract a subset of elements from a list:"
   ]
  },
  {
   "cell_type": "code",
   "execution_count": null,
   "metadata": {
    "collapsed": false
   },
   "outputs": [],
   "source": [
    "print(amniotes[1:3])\n",
    "print(amniotes[-1])"
   ]
  },
  {
   "cell_type": "markdown",
   "metadata": {},
   "source": [
    "Negative indices start at the end and work forwards."
   ]
  },
  {
   "cell_type": "markdown",
   "metadata": {},
   "source": [
    "A nice feature of lists is that they can also be manipulated. Elements can be individually changed or removed, and new elements can be added."
   ]
  },
  {
   "cell_type": "markdown",
   "metadata": {},
   "source": [
    "Correcting the capitalization of the species name for bison:"
   ]
  },
  {
   "cell_type": "code",
   "execution_count": null,
   "metadata": {
    "collapsed": false
   },
   "outputs": [],
   "source": [
    "print(amniotes[-1])\n",
    "amniotes[-1] = \"Bison_bison\"\n",
    "print(amniotes[-1])"
   ]
  },
  {
   "cell_type": "markdown",
   "metadata": {},
   "source": [
    "Removing chickens from the list of names and chromosome numbers:"
   ]
  },
  {
   "cell_type": "code",
   "execution_count": null,
   "metadata": {
    "collapsed": false
   },
   "outputs": [],
   "source": [
    "print(amniotes)\n",
    "print(hapChromNum)"
   ]
  },
  {
   "cell_type": "code",
   "execution_count": null,
   "metadata": {
    "collapsed": false
   },
   "outputs": [],
   "source": [
    "amniotes.pop(1)\n",
    "hapChromNum.pop(1)"
   ]
  },
  {
   "cell_type": "code",
   "execution_count": null,
   "metadata": {
    "collapsed": false
   },
   "outputs": [],
   "source": [
    "print(amniotes)\n",
    "print(hapChromNum)"
   ]
  },
  {
   "cell_type": "markdown",
   "metadata": {},
   "source": [
    "The .pop() method of a list removes individual elements and returns the associated value."
   ]
  },
  {
   "cell_type": "markdown",
   "metadata": {},
   "source": [
    "Adding new elements to the end of a list:"
   ]
  },
  {
   "cell_type": "code",
   "execution_count": null,
   "metadata": {
    "collapsed": true
   },
   "outputs": [],
   "source": [
    "amniotes.append(\"Mus_musculus\")\n",
    "hapChromNum.append(20)"
   ]
  },
  {
   "cell_type": "code",
   "execution_count": null,
   "metadata": {
    "collapsed": false
   },
   "outputs": [],
   "source": [
    "print(amniotes)\n",
    "print(hapChromNum)"
   ]
  },
  {
   "cell_type": "markdown",
   "metadata": {},
   "source": [
    "Lists can be concatenated with the + operator:"
   ]
  },
  {
   "cell_type": "code",
   "execution_count": null,
   "metadata": {
    "collapsed": false
   },
   "outputs": [],
   "source": [
    "amphibs = [\"Pseudacris_fouquettei\", \"Pseudotriton_ruber\"]\n",
    "tetrapods = amniotes + amphibs\n",
    "print(tetrapods)"
   ]
  },
  {
   "cell_type": "markdown",
   "metadata": {},
   "source": [
    "Very often, we would like to do something individually to all members of a list. For loops are very powerful for this. Here is a very simple example:"
   ]
  },
  {
   "cell_type": "code",
   "execution_count": null,
   "metadata": {
    "collapsed": false
   },
   "outputs": [],
   "source": [
    "for species in tetrapods:\n",
    "    print(species)"
   ]
  },
  {
   "cell_type": "markdown",
   "metadata": {},
   "source": [
    "In this case, species is our loop variable and iteratively takes the values of all the elements in the list tetrapods. The keywords \"for\" and \"in\" should always be used as shown in the example and that line should always end with a colon. All statements to be executed inside the for loop must follow on subsequent lines and be indented identically. Python uses indentation to assign statements to loops."
   ]
  },
  {
   "cell_type": "markdown",
   "metadata": {},
   "source": [
    "Here's a slightly more complicated example:"
   ]
  },
  {
   "cell_type": "code",
   "execution_count": null,
   "metadata": {
    "collapsed": false
   },
   "outputs": [],
   "source": [
    "for species in amniotes:\n",
    "    print(species + \" has \" + str(hapChromNum[amniotes.index(species)]) + \" chromosomes.\")"
   ]
  },
  {
   "cell_type": "markdown",
   "metadata": {},
   "source": [
    "If we would like a list of consecutive integers, we can use the range() function to make things more concise. range(x) returns a list of the integers 0 to x-1. "
   ]
  },
  {
   "cell_type": "code",
   "execution_count": null,
   "metadata": {
    "collapsed": false
   },
   "outputs": [],
   "source": [
    "for num in range(4):\n",
    "    print(num)"
   ]
  },
  {
   "cell_type": "markdown",
   "metadata": {},
   "source": [
    "Your turn. How might we use list slicing to return the integers 1 to x?"
   ]
  },
  {
   "cell_type": "markdown",
   "metadata": {},
   "source": [
    "range() also allows more complicated patterns of integers. To go from x to y in steps of z, use three arguments:"
   ]
  },
  {
   "cell_type": "code",
   "execution_count": null,
   "metadata": {
    "collapsed": false
   },
   "outputs": [],
   "source": [
    "print(range(4, 12, 3))  # Goes from 4 to 12 in steps of 3"
   ]
  },
  {
   "cell_type": "markdown",
   "metadata": {},
   "source": [
    "Sometimes, we only want our code to do something if a certain condition is met. In other words, something else must first be True. To do this, we can use if...else statements."
   ]
  },
  {
   "cell_type": "code",
   "execution_count": null,
   "metadata": {
    "collapsed": false
   },
   "outputs": [],
   "source": [
    "if 1 < 3:\n",
    "    print(\"One is less than 3!\")\n",
    "else:\n",
    "    print(\"One is NOT less than 3!\")"
   ]
  },
  {
   "cell_type": "code",
   "execution_count": null,
   "metadata": {
    "collapsed": false
   },
   "outputs": [],
   "source": [
    "if myBool:\n",
    "    print(\"myBool is True!\")\n",
    "else:\n",
    "    print(\"myBool is False!\")"
   ]
  },
  {
   "cell_type": "markdown",
   "metadata": {},
   "source": [
    "You can also add in some elif statements in the middle to evaluate multiple conditions."
   ]
  },
  {
   "cell_type": "code",
   "execution_count": null,
   "metadata": {
    "collapsed": true
   },
   "outputs": [],
   "source": [
    "testVal = 3.3"
   ]
  },
  {
   "cell_type": "code",
   "execution_count": null,
   "metadata": {
    "collapsed": false
   },
   "outputs": [],
   "source": [
    "if testVal >= 5:\n",
    "    print(\"testVal >= 5.\")\n",
    "elif testVal >= 4:\n",
    "    print(\"testVal >= 4, but < 5.\")\n",
    "elif testVal >= 3:\n",
    "    print(\"testVal >= 3, but < 4.\")\n",
    "elif testVal >= 2:\n",
    "    print(\"testVal >=2, but < 3.\")\n",
    "elif testVal >= 1:\n",
    "    print(\"testVal >=1, but < 2.\")\n",
    "else:\n",
    "    print(\"testVal < 1.\")"
   ]
  },
  {
   "cell_type": "markdown",
   "metadata": {},
   "source": [
    "One of the main skills you'll need to write code that is compact and readable is the ability to write your own functions. First, think of an informative name for the function. Next, define what it will take as input (arguments). Lastly, think about the value it will return."
   ]
  },
  {
   "cell_type": "markdown",
   "metadata": {},
   "source": [
    "Name: getChromNum <br/>\n",
    "Input argument: a species name <br/>\n",
    "Return value: an integer"
   ]
  },
  {
   "cell_type": "code",
   "execution_count": null,
   "metadata": {
    "collapsed": true
   },
   "outputs": [],
   "source": [
    "def getChromNum(species):\n",
    "    spIndex = amniotes.index(species)\n",
    "    chromNum = hapChromNum[spIndex]\n",
    "    return chromNum"
   ]
  },
  {
   "cell_type": "code",
   "execution_count": null,
   "metadata": {
    "collapsed": false
   },
   "outputs": [],
   "source": [
    "getChromNum(\"Homo_sapiens\")"
   ]
  },
  {
   "cell_type": "markdown",
   "metadata": {},
   "source": [
    "Note that executing this function in the line above printed the output, but didn't allow us to do anything with this value. To do that, we need to assign the output to a variable. We've now captured the function's output and can do what we want with it after that."
   ]
  },
  {
   "cell_type": "code",
   "execution_count": null,
   "metadata": {
    "collapsed": false
   },
   "outputs": [],
   "source": [
    "hsChromNum = getChromNum(\"Homo_sapiens\")\n",
    "print(hsChromNum)"
   ]
  },
  {
   "cell_type": "markdown",
   "metadata": {},
   "source": [
    "An IMPORTANT note on naming variables! If multiple variables are detected with the same name, Python uses a set of priority rules to determine which one you're asking for. These rules determine the \"scope\" of a variable. Names assigned in function definitions (e.g., species above) are always given the highest priority. Therefore, any references to the variable called species in the getChromNum() function will use the value of species passed as an argument when getChromNum() is called. Also, variables defined just in a function (e.g., spIndex) will disappear when that function is done executing. Their scope is strictly 'local' to the function. Variables defined in the main body of a program are referred to as 'global'. Always strive to write functions that ONLY act on local variables, passed as arguments."
   ]
  },
  {
   "cell_type": "markdown",
   "metadata": {},
   "source": [
    "For more information on scoping, see: http://stackoverflow.com/questions/291978/short-description-of-python-scoping-rules"
   ]
  },
  {
   "cell_type": "markdown",
   "metadata": {},
   "source": [
    "Functions don't have to take an argument or return a value:"
   ]
  },
  {
   "cell_type": "code",
   "execution_count": null,
   "metadata": {
    "collapsed": true
   },
   "outputs": [],
   "source": [
    "def printTwo():\n",
    "    print(2)"
   ]
  },
  {
   "cell_type": "markdown",
   "metadata": {},
   "source": [
    "Functions can also take multiple arguments:"
   ]
  },
  {
   "cell_type": "code",
   "execution_count": null,
   "metadata": {
    "collapsed": true
   },
   "outputs": [],
   "source": [
    "def twoFavSpecies(spOne, spTwo):\n",
    "    \"\"\"\n",
    "    This function prints the name of the two species passed as arguments.\n",
    "    \"\"\"\n",
    "    print(\"My two favorite species are \"+spOne+\" and \"+spTwo+\".\")"
   ]
  },
  {
   "cell_type": "code",
   "execution_count": null,
   "metadata": {
    "collapsed": false
   },
   "outputs": [],
   "source": [
    "twoFavSpecies(amniotes[1], amniotes[2])"
   ]
  },
  {
   "cell_type": "markdown",
   "metadata": {},
   "source": [
    "If you explicitly name the arguments when you call the function, you can supply them in whatever order you prefer:"
   ]
  },
  {
   "cell_type": "code",
   "execution_count": null,
   "metadata": {
    "collapsed": false
   },
   "outputs": [],
   "source": [
    "twoFavSpecies(spTwo=amniotes[1], spOne=amniotes[2])"
   ]
  },
  {
   "cell_type": "markdown",
   "metadata": {},
   "source": [
    "We can also assign default values to some variables in the function definition. In that case, the user can choose whether or not to specify an alternative value for that variable."
   ]
  },
  {
   "cell_type": "code",
   "execution_count": null,
   "metadata": {
    "collapsed": true
   },
   "outputs": [],
   "source": [
    "def favSpecies(spOne,spTwo=\"Pituophis_catenifer\"):\n",
    "    print(\"My favorite species are \"+spOne+\" and \"+spTwo+\".\")"
   ]
  },
  {
   "cell_type": "code",
   "execution_count": null,
   "metadata": {
    "collapsed": false
   },
   "outputs": [],
   "source": [
    "favSpecies(\"Homo_sapiens\")\n",
    "favSpecies(\"Homo_sapiens\", \"nothing else\")"
   ]
  },
  {
   "cell_type": "markdown",
   "metadata": {},
   "source": [
    "Lists can also be passed as arguments to a function:"
   ]
  },
  {
   "cell_type": "code",
   "execution_count": null,
   "metadata": {
    "collapsed": true
   },
   "outputs": [],
   "source": [
    "def allFavSpecies(speciesList):\n",
    "    print(\"I like \"),\n",
    "    for sp in speciesList:\n",
    "        if sp != speciesList[-1]:\n",
    "            print(sp+\" and \"),\n",
    "        else:\n",
    "            print(sp),\n",
    "    print(\".\")"
   ]
  },
  {
   "cell_type": "code",
   "execution_count": null,
   "metadata": {
    "collapsed": false
   },
   "outputs": [],
   "source": [
    "allFavSpecies(amniotes)"
   ]
  },
  {
   "cell_type": "markdown",
   "metadata": {},
   "source": [
    "Note that you can avoid newlines and spaces by importing the sys library and using sys.stdout.write() in place of print(). Normally, all libraries are imported at the beginning of a file."
   ]
  },
  {
   "cell_type": "code",
   "execution_count": null,
   "metadata": {
    "collapsed": false
   },
   "outputs": [],
   "source": [
    "import sys\n",
    "def allFavSpecies(speciesList):\n",
    "    sys.stdout.write(\"I like \"),\n",
    "    for sp in speciesList:\n",
    "        if sp != speciesList[-1]:\n",
    "            sys.stdout.write(sp+\" and \"),\n",
    "        else:\n",
    "            sys.stdout.write(sp),\n",
    "    sys.stdout.write(\".\")\n",
    "allFavSpecies(amniotes)"
   ]
  },
  {
   "cell_type": "markdown",
   "metadata": {},
   "source": [
    "Sometimes we need to use functions that aren't part of the standard Python.\n",
    "In that case, we import functions from other packages. For our purposes, we\n",
    "will often use numpy and scipy. The next line imports the scipy package, but\n",
    "gives it the shorthand name 'scp'. When we import a package this way, we have to\n",
    "preface all functions from that package with 'scp'."
   ]
  },
  {
   "cell_type": "code",
   "execution_count": 1,
   "metadata": {
    "collapsed": true
   },
   "outputs": [],
   "source": [
    "import scipy as scp"
   ]
  },
  {
   "cell_type": "markdown",
   "metadata": {},
   "source": [
    "The random() function from scipy's random package will allow us to draw pseudorandom numbers from between 0 and 1. "
   ]
  },
  {
   "cell_type": "code",
   "execution_count": 2,
   "metadata": {
    "collapsed": false
   },
   "outputs": [
    {
     "name": "stdout",
     "output_type": "stream",
     "text": [
      "[ 0.80990071  0.12095895  0.51950015]\n"
     ]
    }
   ],
   "source": [
    "print(scp.random.random(3))"
   ]
  }
 ],
 "metadata": {
  "anaconda-cloud": {},
  "kernelspec": {
   "display_name": "Python [conda root]",
   "language": "python",
   "name": "conda-root-py"
  },
  "language_info": {
   "codemirror_mode": {
    "name": "ipython",
    "version": 3
   },
   "file_extension": ".py",
   "mimetype": "text/x-python",
   "name": "python",
   "nbconvert_exporter": "python",
   "pygments_lexer": "ipython3",
   "version": "3.5.2"
  },
  "nbpresent": {
   "slides": {
    "3861acde-3871-4e67-b0c4-d5cf8e5e674c": {
     "id": "3861acde-3871-4e67-b0c4-d5cf8e5e674c",
     "prev": null,
     "regions": {
      "83a6f6ba-b0bb-4512-bdf7-023947bc01f3": {
       "attrs": {
        "height": 0.8,
        "width": 0.8,
        "x": 0.1,
        "y": 0.1
       },
       "content": {
        "cell": "1818c51e-4308-4576-bf11-68729b345a1a",
        "part": "whole"
       },
       "id": "83a6f6ba-b0bb-4512-bdf7-023947bc01f3"
      }
     }
    },
    "f62463ad-9821-4d38-b6da-2fa767e589cd": {
     "id": "f62463ad-9821-4d38-b6da-2fa767e589cd",
     "prev": "3861acde-3871-4e67-b0c4-d5cf8e5e674c",
     "regions": {
      "cc69d7c5-a3bf-4144-887d-ba3c74d1c955": {
       "attrs": {
        "height": 0.8,
        "width": 0.8,
        "x": 0.1,
        "y": 0.1
       },
       "content": {
        "cell": "b04a4480-bc8b-4fc3-b595-cc30445aef94",
        "part": "whole"
       },
       "id": "cc69d7c5-a3bf-4144-887d-ba3c74d1c955"
      }
     }
    }
   },
   "themes": {}
  }
 },
 "nbformat": 4,
 "nbformat_minor": 1
}
